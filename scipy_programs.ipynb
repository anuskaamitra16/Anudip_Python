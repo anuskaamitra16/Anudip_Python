{
 "cells": [
  {
   "cell_type": "code",
   "execution_count": 3,
   "id": "cf34eb4b-67b5-42a3-a8e0-d17c26d89568",
   "metadata": {},
   "outputs": [
    {
     "name": "stdout",
     "output_type": "stream",
     "text": [
      "First 5 records:\n",
      "  CircleName    Radius        Area\n",
      "0        SAY  3.798717   45.333960\n",
      "1        PSN  9.958397  311.550720\n",
      "2        JDP  5.142711   83.087197\n",
      "3        AUO  3.319584   34.619210\n",
      "4        OHG  1.138395    4.071325\n"
     ]
    }
   ],
   "source": [
    "#Write a python program to read the radius from the below .csv file and then Calculate the Area of a Circle using SciPy Constants. After that display\n",
    "#the first 5 records and also save the calculated result into a new .csv file.\n",
    "\n",
    "import pandas as pd\n",
    "from scipy.constants import pi\n",
    "\n",
    "#read the csv file into the Dataframe\n",
    "df= pd.read_csv(\"radius_data.csv\")\n",
    "df.head()\n",
    "#Calculate the area of a circle using Scipy constants\n",
    "df['Area']= pi*(df['Radius']**2)\n",
    "#Display the first 5 records\n",
    "print(\"First 5 records:\")\n",
    "print(df.head())"
   ]
  },
  {
   "cell_type": "code",
   "execution_count": 5,
   "id": "0c07ac32-b257-45f2-a85b-d63a531dd71f",
   "metadata": {},
   "outputs": [
    {
     "name": "stdout",
     "output_type": "stream",
     "text": [
      "\n",
      "Calculated areas saved to calculated_area.csv\n"
     ]
    }
   ],
   "source": [
    "#save the calculated result to a new CSV file\n",
    "output_csv=\"calculated_area.csv\"\n",
    "df.to_csv(output_csv, index=False)\n",
    "print(f\"\\nCalculated areas saved to {output_csv}\")"
   ]
  },
  {
   "cell_type": "code",
   "execution_count": 6,
   "id": "8f13e3ef-085d-44ba-a0b0-af7b2baf07eb",
   "metadata": {},
   "outputs": [],
   "source": [
    "#Write a python program to read the Inches from the below .csv file and then Convert Inches to Centimeters using SciPy Constants. After that\n",
    "#display the first 5 records and also save the calculated result into a new csv file."
   ]
  },
  {
   "cell_type": "code",
   "execution_count": 17,
   "id": "157afc22-4fb9-49d5-a4bc-b86e198bcca0",
   "metadata": {},
   "outputs": [
    {
     "name": "stdout",
     "output_type": "stream",
     "text": [
      "First 5 records:\n",
      "       Name  Height (inches)  Height(cm)\n",
      "0  Person 1            60.03    152.4762\n",
      "1  Person 2            49.51    125.7554\n",
      "2  Person 3            82.97    210.7438\n",
      "3  Person 4            64.19    163.0426\n",
      "4  Person 5            54.42    138.2268\n"
     ]
    }
   ],
   "source": [
    "import pandas as pd\n",
    "from scipy.constants import inch,centi\n",
    "#read csv file into the Dataframe\n",
    "df= pd.read_csv(\"people_heights.csv\")\n",
    "df.head()\n",
    "inches_column=next((col for col in df.columns if 'inches' in col.lower()),None)\n",
    "#convert inches to centimeters using Scipy constants\n",
    "df['Height(cm)']= df[inches_column] * inch / centi\n",
    "#display the first 5 rrecords\n",
    "print(\"First 5 records:\")\n",
    "print(df.head())\n"
   ]
  },
  {
   "cell_type": "code",
   "execution_count": 18,
   "id": "9b1e0d52-7519-4302-a9b4-a4a4682f9280",
   "metadata": {},
   "outputs": [
    {
     "name": "stdout",
     "output_type": "stream",
     "text": [
      "\n",
      "Calculated areas saved to heights_in_cm.csv\n"
     ]
    }
   ],
   "source": [
    "#save the calculated result to a new CSV file\n",
    "output_csv=\"heights_in_cm.csv\"\n",
    "df.to_csv(output_csv, index=False)\n",
    "print(f\"\\nCalculated areas saved to {output_csv}\")"
   ]
  },
  {
   "cell_type": "code",
   "execution_count": 19,
   "id": "2598e744-319f-4f5e-a2a6-56e8168b7ef3",
   "metadata": {},
   "outputs": [
    {
     "name": "stdout",
     "output_type": "stream",
     "text": [
      "Original DataFrame:\n",
      "   Math  English  Hindi  Science\n",
      "0  12.0      4.0   20.0     14.0\n",
      "1   4.0      3.0   16.0      3.0\n",
      "2   7.0     57.0    NaN      NaN\n",
      "3   NaN      3.0    3.0      NaN\n",
      "4   2.0      NaN    8.0      6.0\n",
      "\n",
      "DataFrame with Interpolated Values:\n",
      "   Math  English  Hindi  Science\n",
      "0  12.0      4.0   20.0     14.0\n",
      "1   4.0      3.0   16.0      3.0\n",
      "2   7.0     57.0    9.5      4.0\n",
      "3   4.5      3.0    3.0      5.0\n",
      "4   2.0      3.0    8.0      6.0\n"
     ]
    }
   ],
   "source": [
    "#Write a python program using pandas Interpolation to fill in missing values in the data frame.\n",
    "import pandas as pd\n",
    "\n",
    "# Input DataFrame\n",
    "df = pd.DataFrame({\n",
    "    \"Math\": [12, 4, 7, None, 2],\n",
    "    \"English\": [4, 3, 57, 3, None],\n",
    "    \"Hindi\": [20, 16, None, 3, 8],\n",
    "    \"Science\": [14, 3, None, None, 6]\n",
    "})\n",
    "\n",
    "# Interpolate missing values using linear interpolation\n",
    "df_interpolated = df.interpolate(method='linear', axis=0)\n",
    "\n",
    "# Display the original and interpolated DataFrames\n",
    "print(\"Original DataFrame:\")\n",
    "print(df)\n",
    "print(\"\\nDataFrame with Interpolated Values:\")\n",
    "print(df_interpolated)\n"
   ]
  },
  {
   "cell_type": "code",
   "execution_count": 22,
   "id": "c8664be2-711d-4f99-8659-e021dc10757d",
   "metadata": {},
   "outputs": [
    {
     "name": "stdout",
     "output_type": "stream",
     "text": [
      "     Subject  Student_A  Student_B  Student_C\n",
      "0       Math       80.0       90.0       80.0\n",
      "1    Physics       85.0        NaN       88.0\n",
      "2  Chemistry        NaN       75.0        NaN\n",
      "3    Biology       70.0       85.0       78.0\n"
     ]
    }
   ],
   "source": [
    "#Write a python program using Interpolation to fill in missing values in the data frame. \n",
    "#Then generate a subject wise highest score in the form of a bar chart.\n",
    "import pandas as pd\n",
    "import numpy as np\n",
    "import matplotlib.pyplot as plt\n",
    "\n",
    "# Input data\n",
    "data = {\n",
    "    'Subject': ['Math', 'Physics', 'Chemistry', 'Biology'],\n",
    "    'Student_A': [80, 85, np.nan, 70],\n",
    "    'Student_B': [90, np.nan, 75, 85],\n",
    "    'Student_C': [80, 88, np.nan, 78]\n",
    "}\n",
    "\n",
    "# Create DataFrame\n",
    "df = pd.DataFrame(data)\n",
    "#Display the original dataframe\n",
    "print(df)"
   ]
  },
  {
   "cell_type": "code",
   "execution_count": 26,
   "id": "3251c257-3fc9-46ab-9dc9-4fd9bd8ae4e4",
   "metadata": {},
   "outputs": [
    {
     "name": "stdout",
     "output_type": "stream",
     "text": [
      "     Subject  Student_A  Student_B  Student_C\n",
      "0       Math       80.0       90.0       80.0\n",
      "1    Physics       85.0       82.5       88.0\n",
      "2  Chemistry       77.5       75.0       83.0\n",
      "3    Biology       70.0       85.0       78.0\n"
     ]
    },
    {
     "name": "stderr",
     "output_type": "stream",
     "text": [
      "C:\\Users\\anuskaa2003\\AppData\\Local\\Temp\\ipykernel_4612\\2874598262.py:1: FutureWarning: DataFrame.interpolate with object dtype is deprecated and will raise in a future version. Call obj.infer_objects(copy=False) before interpolating instead.\n",
      "  df_interpolated= df.interpolate(method=\"linear\")\n"
     ]
    }
   ],
   "source": [
    "df_interpolated= df.interpolate(method=\"linear\")\n",
    "\n",
    "#display the interpolated dataframe\n",
    "print(df_interpolated)"
   ]
  },
  {
   "cell_type": "code",
   "execution_count": 27,
   "id": "ad4bb1a1-0ab3-4bdb-bbf1-d1ef8b088d47",
   "metadata": {},
   "outputs": [
    {
     "name": "stdout",
     "output_type": "stream",
     "text": [
      "0    90.0\n",
      "1    88.0\n",
      "2    83.0\n",
      "3    85.0\n",
      "dtype: float64\n"
     ]
    }
   ],
   "source": [
    "#generate bar chart of subject wise highest score\n",
    "subject_wise_highest=df_interpolated.drop('Subject',axis=1).max(axis=1)\n",
    "print(subject_wise_highest)"
   ]
  },
  {
   "cell_type": "code",
   "execution_count": 29,
   "id": "36961b1e-a56f-4381-b5d7-f7a58571416a",
   "metadata": {},
   "outputs": [
    {
     "data": {
      "image/png": "[encoded data removed]",
      "text/plain": [
       "<Figure size 640x480 with 1 Axes>"
      ]
     },
     "metadata": {},
     "output_type": "display_data"
    }
   ],
   "source": [
    "plt.bar(df_interpolated['Subject'],subject_wise_highest)\n",
    "plt.title('Subject-Wise Highest Scores')\n",
    "plt.xlabel('Subjects')\n",
    "plt.ylabel('Scores')\n",
    "plt.show()"
   ]
  },
  {
   "cell_type": "code",
   "execution_count": 31,
   "id": "d2902a37-348c-4a6b-b122-e6bea86c1773",
   "metadata": {},
   "outputs": [],
   "source": [
    "#Insights\n",
    "#Out of all the subjects, math has the highest score and chemistry having the lowest score."
   ]
  },
  {
   "cell_type": "code",
   "execution_count": null,
   "id": "4a92810d-6648-4cc3-811f-f77b02e183a9",
   "metadata": {},
   "outputs": [],
   "source": []
  }
 ],
 "metadata": {
  "kernelspec": {
   "display_name": "Python 3 (ipykernel)",
   "language": "python",
   "name": "python3"
  },
  "language_info": {
   "codemirror_mode": {
    "name": "ipython",
    "version": 3
   },
   "file_extension": ".py",
   "mimetype": "text/x-python",
   "name": "python",
   "nbconvert_exporter": "python",
   "pygments_lexer": "ipython3",
   "version": "3.12.0"
  }
 },
 "nbformat": 4,
 "nbformat_minor": 5
}
