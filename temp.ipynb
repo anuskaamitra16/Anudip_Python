{
 "cells": [
  {
   "cell_type": "code",
   "execution_count": 8,
   "id": "981c3173-03bb-4b1d-a6aa-bfb216461c44",
   "metadata": {},
   "outputs": [
    {
     "name": "stdout",
     "output_type": "stream",
     "text": [
      "Electricity Usage:\n",
      "Gas Usage:\n",
      "January      310\n",
      "February     350\n",
      "March        320\n",
      "April        330\n",
      "May          360\n",
      "June         370\n",
      "July         380\n",
      "August       360\n",
      "September    350\n",
      "October      330\n",
      "November     310\n",
      "December     330\n",
      "Name: Electricity Usage (kWh), dtype: int64\n",
      "\n",
      "\n",
      "January      18\n",
      "February     20\n",
      "March        16\n",
      "April        15\n",
      "May          12\n",
      "June          8\n",
      "July         10\n",
      "August        9\n",
      "September    12\n",
      "October      17\n",
      "November     15\n",
      "December     19\n",
      "Name: Gas Usage (therms), dtype: int64\n"
     ]
    }
   ],
   "source": [
    "# Track and analyze the monthly energy usage for electricity and gas over a year, represent this data using Pandas Series.\n",
    "\n",
    "import pandas as pd\n",
    "\n",
    "# Months in a year\n",
    "months = ['January', 'February', 'March', 'April', 'May', 'June', 'July', 'August',\n",
    "          'September', 'October', 'November', 'December']\n",
    "\n",
    "# Monthly energy consumption data (data in kilowatt-hours for electricity and therms for gas)\n",
    "electricity_usage = [310, 350, 320, 330, 360, 370, 380, 360, 350, 330, 310, 330]\n",
    "gas_usage = [18, 20, 16, 15, 12, 8, 10, 9, 12, 17, 15, 19]\n",
    "\n",
    "# Creating Pandas Series\n",
    "print(\"Electricity Usage:\")\n",
    "electricity_series = pd.Series(electricity_usage, index=months, name='Electricity Usage (kWh)')\n",
    "print(\"Gas Usage:\")\n",
    "gas_series = pd.Series(gas_usage, index=months, name='Gas Usage (therms)')\n",
    "\n",
    "# Displaying the Series\n",
    "print(electricity_series)\n",
    "print(\"\\n\")\n",
    "print(gas_series)\n"
   ]
  },
  {
   "cell_type": "code",
   "execution_count": 9,
   "id": "e52e9bed-36d8-49b7-aff7-8630c78a1cb8",
   "metadata": {},
   "outputs": [
    {
     "name": "stdout",
     "output_type": "stream",
     "text": [
      "January      5000\n",
      "February     5200\n",
      "March        4800\n",
      "April        5400\n",
      "May          5600\n",
      "June         5800\n",
      "July         6100\n",
      "August       5900\n",
      "September    6200\n",
      "October      6500\n",
      "November     7000\n",
      "December     6900\n",
      "Name: Monthly Revenue (USD), dtype: int64\n"
     ]
    }
   ],
   "source": [
    "# Analyze the monthly revenue of a website generated from advertising and represent this data using a Pandas Series.\n",
    "import pandas as pd\n",
    "\n",
    "# Months in a year\n",
    "months = ['January', 'February', 'March', 'April', 'May', 'June', 'July', 'August',\n",
    "          'September', 'October', 'November', 'December']\n",
    "\n",
    "# Monthly advertising revenue data (example data in USD)\n",
    "revenue = [5000, 5200, 4800, 5400, 5600, 5800, 6100, 5900, 6200, 6500, 7000, 6900]\n",
    "\n",
    "# Creating Pandas Series\n",
    "revenue_series = pd.Series(revenue, index=months, name='Monthly Revenue (USD)')\n",
    "\n",
    "# Displaying the Series\n",
    "print(revenue_series)\n",
    "\n"
   ]
  },
  {
   "cell_type": "code",
   "execution_count": 10,
   "id": "0c5e8c0e-e037-4647-9b42-2f7ac22d9cfb",
   "metadata": {},
   "outputs": [
    {
     "name": "stdout",
     "output_type": "stream",
     "text": [
      "   Math  English  Hindi\n",
      "0    78       84     86\n",
      "1    85       94     97\n",
      "2    96       89     96\n",
      "3    80       83     72\n",
      "4    86       86     83\n"
     ]
    }
   ],
   "source": [
    "# Write a Pandas program to create a dataframe from a dictionary and display it.\n",
    "import pandas as pd\n",
    "\n",
    "# Sample data\n",
    "score = {'Math': [78, 85, 96, 80, 86], 'English': [84, 94, 89, 83, 86], 'Hindi': [86, 97, 96, 72, 83]}\n",
    "\n",
    "# Creating a DataFrame\n",
    "df = pd.DataFrame(score)\n",
    "\n",
    "# Displaying the DataFrame\n",
    "print(df)\n"
   ]
  },
  {
   "cell_type": "code",
   "execution_count": 11,
   "id": "68693842-a619-4dd9-88ec-229d5e1ca566",
   "metadata": {},
   "outputs": [
    {
     "name": "stdout",
     "output_type": "stream",
     "text": [
      "        name  score  attempts qualify\n",
      "a  Anastasia   12.5         1     yes\n",
      "b       Dima    9.0         3      no\n",
      "c  Katherine   16.5         2     yes\n",
      "d      James    NaN         3      no\n",
      "e      Emily    9.0         2      no\n",
      "f    Michael   20.0         3     yes\n",
      "g    Matthew   14.5         1     yes\n",
      "h      Laura    NaN         1      no\n",
      "i      Kevin    8.0         2      no\n",
      "j      Jonas   19.0         1     yes\n"
     ]
    }
   ],
   "source": [
    "# Write a Pandas program to create and display a DataFrame from a specified dictionary data which has the index labels.\n",
    "import pandas as pd\n",
    "import numpy as np\n",
    "\n",
    "# Sample data\n",
    "exam_data = {\n",
    "    'name': ['Anastasia', 'Dima', 'Katherine', 'James', 'Emily', 'Michael', 'Matthew', 'Laura', 'Kevin', 'Jonas'],\n",
    "    'score': [12.5, 9, 16.5, np.nan, 9, 20, 14.5, np.nan, 8, 19],\n",
    "    'attempts': [1, 3, 2, 3, 2, 3, 1, 1, 2, 1],\n",
    "    'qualify': ['yes', 'no', 'yes', 'no', 'no', 'yes', 'yes', 'no', 'no', 'yes']\n",
    "}\n",
    "\n",
    "# Creating a DataFrame with specified index labels\n",
    "df = pd.DataFrame(exam_data, index=['a', 'b', 'c', 'd', 'e', 'f', 'g', 'h', 'i', 'j'])\n",
    "\n",
    "# Displaying the DataFrame\n",
    "print(df)"
   ]
  },
  {
   "cell_type": "code",
   "execution_count": null,
   "id": "073f694c-2c91-452a-8d43-a304f5b6903b",
   "metadata": {},
   "outputs": [],
   "source": []
  }
 ],
 "metadata": {
  "kernelspec": {
   "display_name": "Python 3 (ipykernel)",
   "language": "python",
   "name": "python3"
  },
  "language_info": {
   "codemirror_mode": {
    "name": "ipython",
    "version": 3
   },
   "file_extension": ".py",
   "mimetype": "text/x-python",
   "name": "python",
   "nbconvert_exporter": "python",
   "pygments_lexer": "ipython3",
   "version": "3.12.0"
  }
 },
 "nbformat": 4,
 "nbformat_minor": 5
}
